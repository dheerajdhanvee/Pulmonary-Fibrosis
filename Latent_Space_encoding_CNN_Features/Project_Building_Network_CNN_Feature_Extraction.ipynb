{
  "nbformat": 4,
  "nbformat_minor": 0,
  "metadata": {
    "colab": {
      "name": "Project_Building_Network_CNN_Feature_Extraction",
      "provenance": [],
      "collapsed_sections": []
    },
    "kernelspec": {
      "name": "python3",
      "display_name": "Python 3"
    },
    "language_info": {
      "name": "python"
    },
    "accelerator": "GPU"
  },
  "cells": [
    {
      "cell_type": "code",
      "execution_count": 1,
      "metadata": {
        "id": "D9oExWYnorz4"
      },
      "outputs": [],
      "source": [
        "# Framework imports\n",
        "import tensorflow as tf\n",
        "from tensorflow import keras\n",
        "from keras import backend as K\n",
        "\n",
        "import pandas as pd\n",
        "import numpy as np\n",
        "import tensorflow as tf \n",
        "from tensorflow import keras\n",
        "from keras.layers import Dense, Dropout, Activation, Flatten\n",
        "from keras.layers import Conv2D, Conv1D, MaxPooling2D\n",
        "from keras.layers import BatchNormalization\n",
        "from keras.layers import ZeroPadding1D\n",
        "from keras.layers import UpSampling1D\n",
        "from keras.layers import Input\n",
        "import os\n",
        "from keras_preprocessing.image import ImageDataGenerator\n",
        "from matplotlib import image\n",
        "from matplotlib import pyplot\n",
        "from PIL import Image\n",
        "from tensorflow.keras.layers import Input, Conv2D, MaxPooling2D, Activation, ReLU\n",
        "from tensorflow.keras.layers import BatchNormalization, Conv2DTranspose, Concatenate\n",
        "from tensorflow.keras.models import Model, Sequential\n",
        "import matplotlib.pyplot as plt"
      ]
    },
    {
      "cell_type": "code",
      "source": [
        "from google.colab import drive\n",
        "drive.mount('/content/drive')\n",
        "os.getcwd()\n",
        "os.chdir('/content/drive/MyDrive/MLMA_project/Segmented_Images')"
      ],
      "metadata": {
        "colab": {
          "base_uri": "https://localhost:8080/"
        },
        "id": "w0e_TvxGneyI",
        "outputId": "20fe5df1-9640-43cd-8c33-413ab4ecdd4e"
      },
      "execution_count": 2,
      "outputs": [
        {
          "output_type": "stream",
          "name": "stdout",
          "text": [
            "Drive already mounted at /content/drive; to attempt to forcibly remount, call drive.mount(\"/content/drive\", force_remount=True).\n"
          ]
        }
      ]
    },
    {
      "cell_type": "code",
      "source": [
        "df1 =pd.read_csv('/content/drive/MyDrive/MLMA_project/train.csv')\n",
        "df2 = pd.read_csv('/content/drive/MyDrive/MLMA_project/test.csv')\n",
        "df= pd.concat([df1,df2],axis=0)\n",
        "df.nunique()\n",
        "df"
      ],
      "metadata": {
        "colab": {
          "base_uri": "https://localhost:8080/",
          "height": 423
        },
        "id": "Hf6aMcIi_Z4g",
        "outputId": "bc79c7cc-d2f8-4938-d4f1-8c7f9f5be8ed"
      },
      "execution_count": 3,
      "outputs": [
        {
          "output_type": "execute_result",
          "data": {
            "text/plain": [
              "                      Patient  Weeks   FVC    Percent  Age   Sex SmokingStatus\n",
              "0   ID00007637202177411956430     -4  2315  58.253649   79  Male     Ex-smoker\n",
              "1   ID00007637202177411956430      5  2214  55.712129   79  Male     Ex-smoker\n",
              "2   ID00007637202177411956430      7  2061  51.862104   79  Male     Ex-smoker\n",
              "3   ID00007637202177411956430      9  2144  53.950679   79  Male     Ex-smoker\n",
              "4   ID00007637202177411956430     11  2069  52.063412   79  Male     Ex-smoker\n",
              "..                        ...    ...   ...        ...  ...   ...           ...\n",
              "0   ID00419637202311204720264      6  3020  70.186855   73  Male     Ex-smoker\n",
              "1   ID00421637202311550012437     15  2739  82.045291   68  Male     Ex-smoker\n",
              "2   ID00422637202311677017371      6  1930  76.672493   73  Male     Ex-smoker\n",
              "3   ID00423637202312137826377     17  3294  79.258903   72  Male     Ex-smoker\n",
              "4   ID00426637202313170790466      0  2925  71.824968   73  Male  Never smoked\n",
              "\n",
              "[1554 rows x 7 columns]"
            ],
            "text/html": [
              "\n",
              "  <div id=\"df-ed9813f6-c0e9-4942-9242-5f4cd758ee3d\">\n",
              "    <div class=\"colab-df-container\">\n",
              "      <div>\n",
              "<style scoped>\n",
              "    .dataframe tbody tr th:only-of-type {\n",
              "        vertical-align: middle;\n",
              "    }\n",
              "\n",
              "    .dataframe tbody tr th {\n",
              "        vertical-align: top;\n",
              "    }\n",
              "\n",
              "    .dataframe thead th {\n",
              "        text-align: right;\n",
              "    }\n",
              "</style>\n",
              "<table border=\"1\" class=\"dataframe\">\n",
              "  <thead>\n",
              "    <tr style=\"text-align: right;\">\n",
              "      <th></th>\n",
              "      <th>Patient</th>\n",
              "      <th>Weeks</th>\n",
              "      <th>FVC</th>\n",
              "      <th>Percent</th>\n",
              "      <th>Age</th>\n",
              "      <th>Sex</th>\n",
              "      <th>SmokingStatus</th>\n",
              "    </tr>\n",
              "  </thead>\n",
              "  <tbody>\n",
              "    <tr>\n",
              "      <th>0</th>\n",
              "      <td>ID00007637202177411956430</td>\n",
              "      <td>-4</td>\n",
              "      <td>2315</td>\n",
              "      <td>58.253649</td>\n",
              "      <td>79</td>\n",
              "      <td>Male</td>\n",
              "      <td>Ex-smoker</td>\n",
              "    </tr>\n",
              "    <tr>\n",
              "      <th>1</th>\n",
              "      <td>ID00007637202177411956430</td>\n",
              "      <td>5</td>\n",
              "      <td>2214</td>\n",
              "      <td>55.712129</td>\n",
              "      <td>79</td>\n",
              "      <td>Male</td>\n",
              "      <td>Ex-smoker</td>\n",
              "    </tr>\n",
              "    <tr>\n",
              "      <th>2</th>\n",
              "      <td>ID00007637202177411956430</td>\n",
              "      <td>7</td>\n",
              "      <td>2061</td>\n",
              "      <td>51.862104</td>\n",
              "      <td>79</td>\n",
              "      <td>Male</td>\n",
              "      <td>Ex-smoker</td>\n",
              "    </tr>\n",
              "    <tr>\n",
              "      <th>3</th>\n",
              "      <td>ID00007637202177411956430</td>\n",
              "      <td>9</td>\n",
              "      <td>2144</td>\n",
              "      <td>53.950679</td>\n",
              "      <td>79</td>\n",
              "      <td>Male</td>\n",
              "      <td>Ex-smoker</td>\n",
              "    </tr>\n",
              "    <tr>\n",
              "      <th>4</th>\n",
              "      <td>ID00007637202177411956430</td>\n",
              "      <td>11</td>\n",
              "      <td>2069</td>\n",
              "      <td>52.063412</td>\n",
              "      <td>79</td>\n",
              "      <td>Male</td>\n",
              "      <td>Ex-smoker</td>\n",
              "    </tr>\n",
              "    <tr>\n",
              "      <th>...</th>\n",
              "      <td>...</td>\n",
              "      <td>...</td>\n",
              "      <td>...</td>\n",
              "      <td>...</td>\n",
              "      <td>...</td>\n",
              "      <td>...</td>\n",
              "      <td>...</td>\n",
              "    </tr>\n",
              "    <tr>\n",
              "      <th>0</th>\n",
              "      <td>ID00419637202311204720264</td>\n",
              "      <td>6</td>\n",
              "      <td>3020</td>\n",
              "      <td>70.186855</td>\n",
              "      <td>73</td>\n",
              "      <td>Male</td>\n",
              "      <td>Ex-smoker</td>\n",
              "    </tr>\n",
              "    <tr>\n",
              "      <th>1</th>\n",
              "      <td>ID00421637202311550012437</td>\n",
              "      <td>15</td>\n",
              "      <td>2739</td>\n",
              "      <td>82.045291</td>\n",
              "      <td>68</td>\n",
              "      <td>Male</td>\n",
              "      <td>Ex-smoker</td>\n",
              "    </tr>\n",
              "    <tr>\n",
              "      <th>2</th>\n",
              "      <td>ID00422637202311677017371</td>\n",
              "      <td>6</td>\n",
              "      <td>1930</td>\n",
              "      <td>76.672493</td>\n",
              "      <td>73</td>\n",
              "      <td>Male</td>\n",
              "      <td>Ex-smoker</td>\n",
              "    </tr>\n",
              "    <tr>\n",
              "      <th>3</th>\n",
              "      <td>ID00423637202312137826377</td>\n",
              "      <td>17</td>\n",
              "      <td>3294</td>\n",
              "      <td>79.258903</td>\n",
              "      <td>72</td>\n",
              "      <td>Male</td>\n",
              "      <td>Ex-smoker</td>\n",
              "    </tr>\n",
              "    <tr>\n",
              "      <th>4</th>\n",
              "      <td>ID00426637202313170790466</td>\n",
              "      <td>0</td>\n",
              "      <td>2925</td>\n",
              "      <td>71.824968</td>\n",
              "      <td>73</td>\n",
              "      <td>Male</td>\n",
              "      <td>Never smoked</td>\n",
              "    </tr>\n",
              "  </tbody>\n",
              "</table>\n",
              "<p>1554 rows × 7 columns</p>\n",
              "</div>\n",
              "      <button class=\"colab-df-convert\" onclick=\"convertToInteractive('df-ed9813f6-c0e9-4942-9242-5f4cd758ee3d')\"\n",
              "              title=\"Convert this dataframe to an interactive table.\"\n",
              "              style=\"display:none;\">\n",
              "        \n",
              "  <svg xmlns=\"http://www.w3.org/2000/svg\" height=\"24px\"viewBox=\"0 0 24 24\"\n",
              "       width=\"24px\">\n",
              "    <path d=\"M0 0h24v24H0V0z\" fill=\"none\"/>\n",
              "    <path d=\"M18.56 5.44l.94 2.06.94-2.06 2.06-.94-2.06-.94-.94-2.06-.94 2.06-2.06.94zm-11 1L8.5 8.5l.94-2.06 2.06-.94-2.06-.94L8.5 2.5l-.94 2.06-2.06.94zm10 10l.94 2.06.94-2.06 2.06-.94-2.06-.94-.94-2.06-.94 2.06-2.06.94z\"/><path d=\"M17.41 7.96l-1.37-1.37c-.4-.4-.92-.59-1.43-.59-.52 0-1.04.2-1.43.59L10.3 9.45l-7.72 7.72c-.78.78-.78 2.05 0 2.83L4 21.41c.39.39.9.59 1.41.59.51 0 1.02-.2 1.41-.59l7.78-7.78 2.81-2.81c.8-.78.8-2.07 0-2.86zM5.41 20L4 18.59l7.72-7.72 1.47 1.35L5.41 20z\"/>\n",
              "  </svg>\n",
              "      </button>\n",
              "      \n",
              "  <style>\n",
              "    .colab-df-container {\n",
              "      display:flex;\n",
              "      flex-wrap:wrap;\n",
              "      gap: 12px;\n",
              "    }\n",
              "\n",
              "    .colab-df-convert {\n",
              "      background-color: #E8F0FE;\n",
              "      border: none;\n",
              "      border-radius: 50%;\n",
              "      cursor: pointer;\n",
              "      display: none;\n",
              "      fill: #1967D2;\n",
              "      height: 32px;\n",
              "      padding: 0 0 0 0;\n",
              "      width: 32px;\n",
              "    }\n",
              "\n",
              "    .colab-df-convert:hover {\n",
              "      background-color: #E2EBFA;\n",
              "      box-shadow: 0px 1px 2px rgba(60, 64, 67, 0.3), 0px 1px 3px 1px rgba(60, 64, 67, 0.15);\n",
              "      fill: #174EA6;\n",
              "    }\n",
              "\n",
              "    [theme=dark] .colab-df-convert {\n",
              "      background-color: #3B4455;\n",
              "      fill: #D2E3FC;\n",
              "    }\n",
              "\n",
              "    [theme=dark] .colab-df-convert:hover {\n",
              "      background-color: #434B5C;\n",
              "      box-shadow: 0px 1px 3px 1px rgba(0, 0, 0, 0.15);\n",
              "      filter: drop-shadow(0px 1px 2px rgba(0, 0, 0, 0.3));\n",
              "      fill: #FFFFFF;\n",
              "    }\n",
              "  </style>\n",
              "\n",
              "      <script>\n",
              "        const buttonEl =\n",
              "          document.querySelector('#df-ed9813f6-c0e9-4942-9242-5f4cd758ee3d button.colab-df-convert');\n",
              "        buttonEl.style.display =\n",
              "          google.colab.kernel.accessAllowed ? 'block' : 'none';\n",
              "\n",
              "        async function convertToInteractive(key) {\n",
              "          const element = document.querySelector('#df-ed9813f6-c0e9-4942-9242-5f4cd758ee3d');\n",
              "          const dataTable =\n",
              "            await google.colab.kernel.invokeFunction('convertToInteractive',\n",
              "                                                     [key], {});\n",
              "          if (!dataTable) return;\n",
              "\n",
              "          const docLinkHtml = 'Like what you see? Visit the ' +\n",
              "            '<a target=\"_blank\" href=https://colab.research.google.com/notebooks/data_table.ipynb>data table notebook</a>'\n",
              "            + ' to learn more about interactive tables.';\n",
              "          element.innerHTML = '';\n",
              "          dataTable['output_type'] = 'display_data';\n",
              "          await google.colab.output.renderOutput(dataTable, element);\n",
              "          const docLink = document.createElement('div');\n",
              "          docLink.innerHTML = docLinkHtml;\n",
              "          element.appendChild(docLink);\n",
              "        }\n",
              "      </script>\n",
              "    </div>\n",
              "  </div>\n",
              "  "
            ]
          },
          "metadata": {},
          "execution_count": 3
        }
      ]
    },
    {
      "cell_type": "code",
      "source": [
        "# Function for fetching ids of patient and image arrays 3d (i.e 3 slices per person) of each patient \n",
        "def get_lists_pid_imgs(word):\n",
        "  list_of_ids= os.listdir('/content/drive/MyDrive/MLMA_project/Segmented_Images/'+word)\n",
        "  my_list_of_arrays=[]\n",
        "  ids_list= []\n",
        "  for j in list_of_ids:\n",
        "    my_list_imgs= os.listdir('/content/drive/MyDrive/MLMA_project/Segmented_Images/'+word+'/'+j)\n",
        "    v= len(my_list_imgs)//3\n",
        "    n=v//2\n",
        "    my_new_list= [n,v+n,v+v+n]\n",
        "    image_list=[]\n",
        "    for k in my_new_list:\n",
        "      image = Image.open('/content/drive/MyDrive/MLMA_project/Segmented_Images/'+word+'/'+j+'/'+my_list_imgs[k])\n",
        "      np_image= np.array(image)\n",
        "      image_list.append(np_image)\n",
        "    stacked_array= np.dstack((image_list[0],image_list[1],image_list[2]))\n",
        "    my_list_of_arrays.append(stacked_array) \n",
        "    ids_list.append(j)\n",
        "  return (np.array(ids_list),np.array(my_list_of_arrays))"
      ],
      "metadata": {
        "id": "Wf9KcRgsnnTa"
      },
      "execution_count": 4,
      "outputs": []
    },
    {
      "cell_type": "code",
      "source": [
        "# Function for fetching the percent values for each patientid\n",
        "def percent_label(my_ids,df):\n",
        "  my_df= df.groupby(by='Patient').mean()\n",
        "  my_df.reset_index(inplace=True)\n",
        "  my_percent_list= []\n",
        "  for i in my_ids:\n",
        "    ab= my_df.loc[my_df['Patient'] == i]['Percent']\n",
        "    my_percent_list.append(ab.tolist()[0])\n",
        "  return np.array(my_percent_list)"
      ],
      "metadata": {
        "id": "Jgs17o13_EqK"
      },
      "execution_count": 5,
      "outputs": []
    },
    {
      "cell_type": "markdown",
      "source": [
        ""
      ],
      "metadata": {
        "id": "K9bP41LjZX1I"
      }
    },
    {
      "cell_type": "code",
      "source": [
        "my_ids_train,my_imgarray_train= get_lists_pid_imgs('train')\n",
        "percent_list_train = percent_label(my_ids_train,df)"
      ],
      "metadata": {
        "id": "PpQoooYsHiTr"
      },
      "execution_count": 6,
      "outputs": []
    },
    {
      "cell_type": "code",
      "source": [
        "my_ids_test,my_imgarray_test= get_lists_pid_imgs('test')\n",
        "percent_list_test = percent_label(my_ids_test,df)"
      ],
      "metadata": {
        "id": "8uq62sP0ypgC"
      },
      "execution_count": 7,
      "outputs": []
    },
    {
      "cell_type": "code",
      "source": [
        "my_ids_val,my_imgarray_val= get_lists_pid_imgs('val')\n",
        "percent_list_val = percent_label(my_ids_val,df)"
      ],
      "metadata": {
        "id": "jBdw-CUoBazA"
      },
      "execution_count": 8,
      "outputs": []
    },
    {
      "cell_type": "code",
      "source": [
        "inputs = keras.Input(shape=(512,512,3))\n",
        "C1=Conv2D(32, (3, 3), activation='relu',padding='same', input_shape=(512,512,3))(inputs)\n",
        "M1=MaxPooling2D((2, 2))(C1)\n",
        "C2=Conv2D(64, (3, 3), activation='relu',padding='same')(M1)\n",
        "M2=MaxPooling2D((2, 2))(C2)\n",
        "F=Flatten()(M2)\n",
        "D1=Dense(100, activation='relu')(F)\n",
        "outputs=Dense(1, activation='linear')(D1)\n",
        "model_Built=keras.Model(inputs,outputs)"
      ],
      "metadata": {
        "id": "E0nuZ5xiEn9T"
      },
      "execution_count": 9,
      "outputs": []
    },
    {
      "cell_type": "code",
      "source": [
        "model_Built.summary()"
      ],
      "metadata": {
        "colab": {
          "base_uri": "https://localhost:8080/"
        },
        "id": "EJYT4BtEF8Lj",
        "outputId": "e6291eca-6c33-4f34-80e3-3fc15cd14f76"
      },
      "execution_count": 10,
      "outputs": [
        {
          "output_type": "stream",
          "name": "stdout",
          "text": [
            "Model: \"model\"\n",
            "_________________________________________________________________\n",
            " Layer (type)                Output Shape              Param #   \n",
            "=================================================================\n",
            " input_1 (InputLayer)        [(None, 512, 512, 3)]     0         \n",
            "                                                                 \n",
            " conv2d (Conv2D)             (None, 512, 512, 32)      896       \n",
            "                                                                 \n",
            " max_pooling2d (MaxPooling2D  (None, 256, 256, 32)     0         \n",
            " )                                                               \n",
            "                                                                 \n",
            " conv2d_1 (Conv2D)           (None, 256, 256, 64)      18496     \n",
            "                                                                 \n",
            " max_pooling2d_1 (MaxPooling  (None, 128, 128, 64)     0         \n",
            " 2D)                                                             \n",
            "                                                                 \n",
            " flatten (Flatten)           (None, 1048576)           0         \n",
            "                                                                 \n",
            " dense (Dense)               (None, 100)               104857700 \n",
            "                                                                 \n",
            " dense_1 (Dense)             (None, 1)                 101       \n",
            "                                                                 \n",
            "=================================================================\n",
            "Total params: 104,877,193\n",
            "Trainable params: 104,877,193\n",
            "Non-trainable params: 0\n",
            "_________________________________________________________________\n"
          ]
        }
      ]
    },
    {
      "cell_type": "code",
      "source": [
        "model_Built.compile(optimizer=tf.keras.optimizers.Adam(learning_rate=0.01), loss='mae', metrics=['mae']) "
      ],
      "metadata": {
        "id": "HAcalULRGC70"
      },
      "execution_count": 11,
      "outputs": []
    },
    {
      "cell_type": "code",
      "source": [
        "history=model_Built.fit(my_imgarray_train, percent_list_train, epochs=20, batch_size= 10, validation_data= (my_imgarray_val,percent_list_val))"
      ],
      "metadata": {
        "colab": {
          "base_uri": "https://localhost:8080/"
        },
        "id": "N36iUMO9GHJW",
        "outputId": "e1688d6a-80ad-4ccb-d84c-c45febf6b163"
      },
      "execution_count": 12,
      "outputs": [
        {
          "output_type": "stream",
          "name": "stdout",
          "text": [
            "Epoch 1/20\n",
            "15/15 [==============================] - 8s 152ms/step - loss: 11889.3213 - mae: 11889.3213 - val_loss: 50.1545 - val_mae: 50.1545\n",
            "Epoch 2/20\n",
            "15/15 [==============================] - 1s 97ms/step - loss: 30.3944 - mae: 30.3944 - val_loss: 18.5612 - val_mae: 18.5612\n",
            "Epoch 3/20\n",
            "15/15 [==============================] - 1s 99ms/step - loss: 14.4993 - mae: 14.4993 - val_loss: 13.0820 - val_mae: 13.0820\n",
            "Epoch 4/20\n",
            "15/15 [==============================] - 1s 96ms/step - loss: 14.5314 - mae: 14.5314 - val_loss: 15.2711 - val_mae: 15.2711\n",
            "Epoch 5/20\n",
            "15/15 [==============================] - 1s 85ms/step - loss: 14.9207 - mae: 14.9207 - val_loss: 12.2882 - val_mae: 12.2882\n",
            "Epoch 6/20\n",
            "15/15 [==============================] - 1s 87ms/step - loss: 13.7763 - mae: 13.7763 - val_loss: 12.4608 - val_mae: 12.4608\n",
            "Epoch 7/20\n",
            "15/15 [==============================] - 1s 84ms/step - loss: 9.8790 - mae: 9.8790 - val_loss: 11.0301 - val_mae: 11.0301\n",
            "Epoch 8/20\n",
            "15/15 [==============================] - 1s 85ms/step - loss: 9.8574 - mae: 9.8574 - val_loss: 11.2456 - val_mae: 11.2456\n",
            "Epoch 9/20\n",
            "15/15 [==============================] - 1s 84ms/step - loss: 8.3641 - mae: 8.3641 - val_loss: 11.0219 - val_mae: 11.0219\n",
            "Epoch 10/20\n",
            "15/15 [==============================] - 1s 84ms/step - loss: 6.9545 - mae: 6.9545 - val_loss: 11.4053 - val_mae: 11.4053\n",
            "Epoch 11/20\n",
            "15/15 [==============================] - 1s 84ms/step - loss: 7.4406 - mae: 7.4406 - val_loss: 14.1764 - val_mae: 14.1764\n",
            "Epoch 12/20\n",
            "15/15 [==============================] - 1s 85ms/step - loss: 6.1516 - mae: 6.1516 - val_loss: 13.1269 - val_mae: 13.1269\n",
            "Epoch 13/20\n",
            "15/15 [==============================] - 1s 84ms/step - loss: 5.5315 - mae: 5.5315 - val_loss: 11.8278 - val_mae: 11.8278\n",
            "Epoch 14/20\n",
            "15/15 [==============================] - 1s 83ms/step - loss: 5.9108 - mae: 5.9108 - val_loss: 10.7007 - val_mae: 10.7007\n",
            "Epoch 15/20\n",
            "15/15 [==============================] - 1s 84ms/step - loss: 4.8644 - mae: 4.8644 - val_loss: 13.0045 - val_mae: 13.0045\n",
            "Epoch 16/20\n",
            "15/15 [==============================] - 1s 84ms/step - loss: 5.9823 - mae: 5.9823 - val_loss: 11.5000 - val_mae: 11.5000\n",
            "Epoch 17/20\n",
            "15/15 [==============================] - 1s 84ms/step - loss: 4.7391 - mae: 4.7391 - val_loss: 12.9227 - val_mae: 12.9227\n",
            "Epoch 18/20\n",
            "15/15 [==============================] - 1s 85ms/step - loss: 4.2649 - mae: 4.2649 - val_loss: 12.4946 - val_mae: 12.4946\n",
            "Epoch 19/20\n",
            "15/15 [==============================] - 1s 85ms/step - loss: 4.2409 - mae: 4.2409 - val_loss: 11.8354 - val_mae: 11.8354\n",
            "Epoch 20/20\n",
            "15/15 [==============================] - 1s 83ms/step - loss: 3.8283 - mae: 3.8283 - val_loss: 11.3467 - val_mae: 11.3467\n"
          ]
        }
      ]
    },
    {
      "cell_type": "code",
      "source": [
        "# Plotting the training and validation losses\n",
        "plt.plot(history.history['loss'])\n",
        "plt.plot(history.history['val_loss'])\n",
        "plt.title('model loss')\n",
        "plt.ylabel('loss')\n",
        "plt.xlabel('epoch')\n",
        "plt.legend(['train', 'val'])\n",
        "plt.ylim(top=100)\n",
        "plt.ylim(bottom=0)\n",
        "plt.show()"
      ],
      "metadata": {
        "colab": {
          "base_uri": "https://localhost:8080/",
          "height": 295
        },
        "id": "g-iAp449etqn",
        "outputId": "4226c6a2-2e04-455d-beec-971baa715780"
      },
      "execution_count": 13,
      "outputs": [
        {
          "output_type": "display_data",
          "data": {
            "text/plain": [
              "<Figure size 432x288 with 1 Axes>"
            ],
            "image/png": "[encoded data removed]"
          },
          "metadata": {
            "needs_background": "light"
          }
        }
      ]
    },
    {
      "cell_type": "code",
      "source": [
        "image=my_imgarray_test[2]\n",
        "print(image.shape)\n",
        "layer_of_interest=-2 # penultimate layer - dense 64 layer\n",
        "intermediate_tensor_function= K.function([model_Built.input],[model_Built.layers[layer_of_interest].output])"
      ],
      "metadata": {
        "id": "z-mOpLiIpPpE",
        "colab": {
          "base_uri": "https://localhost:8080/"
        },
        "outputId": "2e91a4c9-1922-4081-9ae0-329046dcb329"
      },
      "execution_count": 14,
      "outputs": [
        {
          "output_type": "stream",
          "name": "stdout",
          "text": [
            "(512, 512, 3)\n"
          ]
        }
      ]
    },
    {
      "cell_type": "code",
      "source": [
        "a=np.expand_dims(image,axis=0)\n",
        "print(a.shape)\n",
        "print(model_Built.predict(a))\n",
        "print(percent_list_test[1])\n",
        "intermediate_tensor = intermediate_tensor_function([a])[0]"
      ],
      "metadata": {
        "id": "RHjxyYb4pPrr",
        "colab": {
          "base_uri": "https://localhost:8080/"
        },
        "outputId": "9232767c-f7ba-4f03-a21c-3661cbfd7461"
      },
      "execution_count": 15,
      "outputs": [
        {
          "output_type": "stream",
          "name": "stdout",
          "text": [
            "(1, 512, 512, 3)\n",
            "[[91.43221]]\n",
            "91.036317842\n"
          ]
        }
      ]
    },
    {
      "cell_type": "code",
      "source": [
        "def get_feature_for_each_patient(narray,pat_arr):\n",
        "  cols=[\"F\"+str(i) for i in range(100)]\n",
        "  df_current = pd.DataFrame(columns = cols)\n",
        "  df_pat=pd.DataFrame(columns = [\"Patient\"])\n",
        "  for i in range(narray.shape[0]):\n",
        "    image=narray[i]\n",
        "    a=np.expand_dims(image,axis=0)\n",
        "    intermediate_tensor = intermediate_tensor_function([a])[0]\n",
        "    df_current.loc[len(df_current.index)]=intermediate_tensor[0]\n",
        "    df_pat.loc[len(df_pat.index)]=pat_arr[i]\n",
        "\n",
        "  result = pd.concat([df_pat, df_current], axis=1, join='inner')\n",
        "  return result"
      ],
      "metadata": {
        "id": "_6ypjEUILfms"
      },
      "execution_count": 16,
      "outputs": []
    },
    {
      "cell_type": "code",
      "source": [
        "df_test=get_feature_for_each_patient(my_imgarray_test,my_ids_test)\n",
        "#print(df_test)\n",
        "#df_test.to_csv(\"/content/drive/MyDrive/Latent_space_test.csv\")"
      ],
      "metadata": {
        "id": "h25agfy6QFqy"
      },
      "execution_count": 23,
      "outputs": []
    },
    {
      "cell_type": "code",
      "source": [
        "df_train=get_feature_for_each_patient(my_imgarray_train,my_ids_train)\n",
        "#print(df_train)\n",
        "#df_train.to_csv(\"/content/drive/MyDrive/Latent_space_train.csv\")"
      ],
      "metadata": {
        "id": "x8tkeZy9dMUY"
      },
      "execution_count": 24,
      "outputs": []
    },
    {
      "cell_type": "code",
      "source": [
        "df_val=get_feature_for_each_patient(my_imgarray_val,my_ids_val)\n",
        "#print(df_val)\n",
        "#df_val.to_csv(\"/content/drive/MyDrive/Latent_space_val.csv\")  "
      ],
      "metadata": {
        "id": "FHyMumkWpo6w"
      },
      "execution_count": 25,
      "outputs": []
    },
    {
      "cell_type": "code",
      "source": [
        "#Choosing Image for gradcam\n",
        "image=my_imgarray_test[5]\n",
        "a=np.expand_dims(image,axis=0)\n",
        "plt.imshow(image[:,:,0],cmap='gray')\n",
        "plt.show()\n",
        "plt.imshow(image[:,:,1],cmap='gray')\n",
        "plt.show()\n",
        "plt.imshow(image[:,:,2],cmap='gray')\n",
        "plt.show()"
      ],
      "metadata": {
        "colab": {
          "base_uri": "https://localhost:8080/",
          "height": 773
        },
        "id": "e45ZjAA-pltV",
        "outputId": "21a0d166-b920-4130-9565-e871ae04831b"
      },
      "execution_count": 78,
      "outputs": [
        {
          "output_type": "display_data",
          "data": {
            "text/plain": [
              "<Figure size 432x288 with 1 Axes>"
            ],
            "image/png": "[encoded data removed]"
          },
          "metadata": {
            "needs_background": "light"
          }
        },
        {
          "output_type": "display_data",
          "data": {
            "text/plain": [
              "<Figure size 432x288 with 1 Axes>"
            ],
            "image/png": "[encoded data removed]"
          },
          "metadata": {
            "needs_background": "light"
          }
        },
        {
          "output_type": "display_data",
          "data": {
            "text/plain": [
              "<Figure size 432x288 with 1 Axes>"
            ],
            "image/png": "[encoded data removed]"
          },
          "metadata": {
            "needs_background": "light"
          }
        }
      ]
    },
    {
      "cell_type": "code",
      "source": [
        "# Grad Cam to visualize where it is happening\n",
        "img_size = (512, 512,3)\n",
        "last_conv_layer_name = \"conv2d_1\""
      ],
      "metadata": {
        "id": "292uQrigeAxx"
      },
      "execution_count": 67,
      "outputs": []
    },
    {
      "cell_type": "code",
      "source": [
        "def get_img_array(img_path, size):\n",
        "    # `img` is a PIL image of size 299x299\n",
        "    img = keras.preprocessing.image.load_img(img_path, target_size=size)\n",
        "    # `array` is a float32 Numpy array of shape (299, 299, 3)\n",
        "    array = keras.preprocessing.image.img_to_array(img)\n",
        "    # We add a dimension to transform our array into a \"batch\"\n",
        "    # of size (1, 299, 299, 3)\n",
        "    array = np.expand_dims(array, axis=0)\n",
        "    return array\n",
        "\n",
        "\n",
        "def make_gradcam_heatmap(img_array, model, last_conv_layer_name, pred_index=None):\n",
        "    # First, we create a model that maps the input image to the activations\n",
        "    # of the last conv layer as well as the output predictions\n",
        "    grad_model = tf.keras.models.Model(\n",
        "        [model.inputs], [model.get_layer(last_conv_layer_name).output, model.output]\n",
        "    )\n",
        "\n",
        "    # Then, we compute the gradient of the top predicted class for our input image\n",
        "    # with respect to the activations of the last conv layer\n",
        "    with tf.GradientTape() as tape:\n",
        "        last_conv_layer_output, preds = grad_model(img_array)\n",
        "        if pred_index is None:\n",
        "            pred_index = tf.argmax(preds[0])\n",
        "        class_channel = preds[:, pred_index]\n",
        "\n",
        "    # This is the gradient of the output neuron (top predicted or chosen)\n",
        "    # with regard to the output feature map of the last conv layer\n",
        "    grads = tape.gradient(class_channel, last_conv_layer_output)\n",
        "\n",
        "    # This is a vector where each entry is the mean intensity of the gradient\n",
        "    # over a specific feature map channel\n",
        "    pooled_grads = tf.reduce_mean(grads, axis=(0, 1, 2))\n",
        "\n",
        "    # We multiply each channel in the feature map array\n",
        "    # by \"how important this channel is\" with regard to the top predicted class\n",
        "    # then sum all the channels to obtain the heatmap class activation\n",
        "    last_conv_layer_output = last_conv_layer_output[0]\n",
        "    heatmap = last_conv_layer_output @ pooled_grads[..., tf.newaxis]\n",
        "    heatmap = tf.squeeze(heatmap)\n",
        "\n",
        "    # For visualization purpose, we will also normalize the heatmap between 0 & 1\n",
        "    heatmap = tf.maximum(heatmap, 0) / tf.math.reduce_max(heatmap)\n",
        "    return heatmap.numpy()"
      ],
      "metadata": {
        "id": "dLQLsDgznhd2"
      },
      "execution_count": 68,
      "outputs": []
    },
    {
      "cell_type": "code",
      "source": [
        "# Generate class activation heatmap\n",
        "img_array=a\n",
        "heatmap = make_gradcam_heatmap(img_array, model_Built, last_conv_layer_name)\n",
        "\n",
        "# Display heatmap\n",
        "plt.matshow(heatmap)\n",
        "plt.show()\n"
      ],
      "metadata": {
        "colab": {
          "base_uri": "https://localhost:8080/",
          "height": 275
        },
        "id": "DJ34m50enlAK",
        "outputId": "a671fe44-275c-4426-fd07-b6cb77b55172"
      },
      "execution_count": 79,
      "outputs": [
        {
          "output_type": "display_data",
          "data": {
            "text/plain": [
              "<Figure size 288x288 with 1 Axes>"
            ],
            "image/png": "[encoded data removed]"
          },
          "metadata": {
            "needs_background": "light"
          }
        }
      ]
    },
    {
      "cell_type": "code",
      "source": [
        "import matplotlib.cm as cm\n",
        "def save_and_display_gradcam(image, heatmap, cam_path=\"cam.jpg\", alpha=0.4):\n",
        "    # Load the original image\n",
        "    \n",
        "    img = keras.preprocessing.image.img_to_array(image[:,:,0])\n",
        "\n",
        "    # Rescale heatmap to a range 0-255\n",
        "    heatmap = np.uint8(255 * heatmap)\n",
        "\n",
        "    # Use jet colormap to colorize heatmap\n",
        "    jet = cm.get_cmap(\"jet\")\n",
        "\n",
        "    # Use RGB values of the colormap\n",
        "    jet_colors = jet(np.arange(256))[:, :3]\n",
        "    jet_heatmap = jet_colors[heatmap]\n",
        "\n",
        "    # Create an image with RGB colorized heatmap\n",
        "    jet_heatmap = keras.preprocessing.image.array_to_img(jet_heatmap)\n",
        "    jet_heatmap = jet_heatmap.resize((img.shape[1], img.shape[0]))\n",
        "    jet_heatmap = keras.preprocessing.image.img_to_array(jet_heatmap)\n",
        "\n",
        "    # Superimpose the heatmap on original image\n",
        "    superimposed_img = jet_heatmap * alpha + img\n",
        "    superimposed_img = keras.preprocessing.image.array_to_img(superimposed_img)\n",
        "\n",
        "    # Save the superimposed image\n",
        "    #superimposed_img.save(cam_path)\n",
        "\n",
        "    # Display Grad CAM\n",
        "    plt.matshow(superimposed_img)\n",
        "    plt.show()\n",
        "\n",
        "\n",
        "\n",
        "save_and_display_gradcam(image, heatmap,alpha=100)"
      ],
      "metadata": {
        "colab": {
          "base_uri": "https://localhost:8080/",
          "height": 275
        },
        "id": "DeHlvoFQoARt",
        "outputId": "09ffa84c-96d6-4b87-9637-05e9f6597313"
      },
      "execution_count": 84,
      "outputs": [
        {
          "output_type": "display_data",
          "data": {
            "text/plain": [
              "<Figure size 288x288 with 1 Axes>"
            ],
            "image/png": "[encoded data removed]"
          },
          "metadata": {
            "needs_background": "light"
          }
        }
      ]
    },
    {
      "cell_type": "code",
      "source": [
        ""
      ],
      "metadata": {
        "id": "uIHzLxs0p0ib"
      },
      "execution_count": null,
      "outputs": []
    }
  ]
}