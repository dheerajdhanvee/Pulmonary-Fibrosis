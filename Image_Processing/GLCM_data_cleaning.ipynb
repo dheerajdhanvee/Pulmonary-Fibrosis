{
  "nbformat": 4,
  "nbformat_minor": 0,
  "metadata": {
    "colab": {
      "name": "GLCM_data_cleaning",
      "provenance": [],
      "collapsed_sections": []
    },
    "kernelspec": {
      "name": "python3",
      "display_name": "Python 3"
    },
    "language_info": {
      "name": "python"
    }
  },
  "cells": [
    {
      "cell_type": "code",
      "source": [
        "#Imports\n",
        "import pandas as pd"
      ],
      "metadata": {
        "id": "qBZOfmFi0udr"
      },
      "execution_count": 3,
      "outputs": []
    },
    {
      "cell_type": "code",
      "source": [
        "from google.colab import drive\n",
        "drive.mount('/content/drive')"
      ],
      "metadata": {
        "colab": {
          "base_uri": "https://localhost:8080/"
        },
        "id": "98O9gJVo0z2C",
        "outputId": "d3755dc7-d24e-4864-e49c-2169fa1c6484"
      },
      "execution_count": 4,
      "outputs": [
        {
          "output_type": "stream",
          "name": "stdout",
          "text": [
            "Mounted at /content/drive\n"
          ]
        }
      ]
    },
    {
      "cell_type": "code",
      "source": [
        "# Reading GLCM unclean\n",
        "df_train =pd.read_csv('/content/drive/MyDrive/GLCM/train.csv')\n",
        "df_test = pd.read_csv('/content/drive/MyDrive/GLCM/test.csv')\n",
        "df_val = pd.read_csv('/content/drive/MyDrive/GLCM/val.csv')"
      ],
      "metadata": {
        "id": "IHXFbShM03ZU"
      },
      "execution_count": 85,
      "outputs": []
    },
    {
      "cell_type": "code",
      "source": [
        "display(df_train)"
      ],
      "metadata": {
        "colab": {
          "base_uri": "https://localhost:8080/",
          "height": 423
        },
        "id": "S4HBDBaO1H4d",
        "outputId": "32925817-f219-4fe7-e0f4-9fc33a4b370a"
      },
      "execution_count": 86,
      "outputs": [
        {
          "output_type": "display_data",
          "data": {
            "text/plain": [
              "                     Patient ID  Slice ID  Lung Volume  \\\n",
              "0     ID00007637202177411956430         1            0   \n",
              "1     ID00007637202177411956430        10        45163   \n",
              "2     ID00007637202177411956430        11        48264   \n",
              "3     ID00007637202177411956430        12        49509   \n",
              "4     ID00007637202177411956430        13        51046   \n",
              "...                         ...       ...          ...   \n",
              "4333  ID00426637202313170790466       392            0   \n",
              "4334  ID00426637202313170790466       403            0   \n",
              "4335  ID00426637202313170790466        48         2888   \n",
              "4336  ID00426637202313170790466         6            0   \n",
              "4337  ID00426637202313170790466        71         8659   \n",
              "\n",
              "      Angular_Second_Momentum  Contrast  Correlation  Entropy  \n",
              "0                         NaN       NaN          NaN      NaN  \n",
              "1                    0.002000    63.558     0.002000    7.126  \n",
              "2                    0.002000    67.037     0.002000    7.179  \n",
              "3                    0.001000    61.217     0.002000    7.278  \n",
              "4                    0.001000    68.085     0.002000    7.340  \n",
              "...                       ...       ...          ...      ...  \n",
              "4333                      NaN       NaN          NaN      NaN  \n",
              "4334                      NaN       NaN          NaN      NaN  \n",
              "4335                 0.000545   160.860     0.001000    7.874  \n",
              "4336                      NaN       NaN          NaN      NaN  \n",
              "4337                 0.000384   248.262     0.000867    8.362  \n",
              "\n",
              "[4338 rows x 7 columns]"
            ],
            "text/html": [
              "\n",
              "  <div id=\"df-889c3c5f-dfb8-4768-8525-647dad583458\">\n",
              "    <div class=\"colab-df-container\">\n",
              "      <div>\n",
              "<style scoped>\n",
              "    .dataframe tbody tr th:only-of-type {\n",
              "        vertical-align: middle;\n",
              "    }\n",
              "\n",
              "    .dataframe tbody tr th {\n",
              "        vertical-align: top;\n",
              "    }\n",
              "\n",
              "    .dataframe thead th {\n",
              "        text-align: right;\n",
              "    }\n",
              "</style>\n",
              "<table border=\"1\" class=\"dataframe\">\n",
              "  <thead>\n",
              "    <tr style=\"text-align: right;\">\n",
              "      <th></th>\n",
              "      <th>Patient ID</th>\n",
              "      <th>Slice ID</th>\n",
              "      <th>Lung Volume</th>\n",
              "      <th>Angular_Second_Momentum</th>\n",
              "      <th>Contrast</th>\n",
              "      <th>Correlation</th>\n",
              "      <th>Entropy</th>\n",
              "    </tr>\n",
              "  </thead>\n",
              "  <tbody>\n",
              "    <tr>\n",
              "      <th>0</th>\n",
              "      <td>ID00007637202177411956430</td>\n",
              "      <td>1</td>\n",
              "      <td>0</td>\n",
              "      <td>NaN</td>\n",
              "      <td>NaN</td>\n",
              "      <td>NaN</td>\n",
              "      <td>NaN</td>\n",
              "    </tr>\n",
              "    <tr>\n",
              "      <th>1</th>\n",
              "      <td>ID00007637202177411956430</td>\n",
              "      <td>10</td>\n",
              "      <td>45163</td>\n",
              "      <td>0.002000</td>\n",
              "      <td>63.558</td>\n",
              "      <td>0.002000</td>\n",
              "      <td>7.126</td>\n",
              "    </tr>\n",
              "    <tr>\n",
              "      <th>2</th>\n",
              "      <td>ID00007637202177411956430</td>\n",
              "      <td>11</td>\n",
              "      <td>48264</td>\n",
              "      <td>0.002000</td>\n",
              "      <td>67.037</td>\n",
              "      <td>0.002000</td>\n",
              "      <td>7.179</td>\n",
              "    </tr>\n",
              "    <tr>\n",
              "      <th>3</th>\n",
              "      <td>ID00007637202177411956430</td>\n",
              "      <td>12</td>\n",
              "      <td>49509</td>\n",
              "      <td>0.001000</td>\n",
              "      <td>61.217</td>\n",
              "      <td>0.002000</td>\n",
              "      <td>7.278</td>\n",
              "    </tr>\n",
              "    <tr>\n",
              "      <th>4</th>\n",
              "      <td>ID00007637202177411956430</td>\n",
              "      <td>13</td>\n",
              "      <td>51046</td>\n",
              "      <td>0.001000</td>\n",
              "      <td>68.085</td>\n",
              "      <td>0.002000</td>\n",
              "      <td>7.340</td>\n",
              "    </tr>\n",
              "    <tr>\n",
              "      <th>...</th>\n",
              "      <td>...</td>\n",
              "      <td>...</td>\n",
              "      <td>...</td>\n",
              "      <td>...</td>\n",
              "      <td>...</td>\n",
              "      <td>...</td>\n",
              "      <td>...</td>\n",
              "    </tr>\n",
              "    <tr>\n",
              "      <th>4333</th>\n",
              "      <td>ID00426637202313170790466</td>\n",
              "      <td>392</td>\n",
              "      <td>0</td>\n",
              "      <td>NaN</td>\n",
              "      <td>NaN</td>\n",
              "      <td>NaN</td>\n",
              "      <td>NaN</td>\n",
              "    </tr>\n",
              "    <tr>\n",
              "      <th>4334</th>\n",
              "      <td>ID00426637202313170790466</td>\n",
              "      <td>403</td>\n",
              "      <td>0</td>\n",
              "      <td>NaN</td>\n",
              "      <td>NaN</td>\n",
              "      <td>NaN</td>\n",
              "      <td>NaN</td>\n",
              "    </tr>\n",
              "    <tr>\n",
              "      <th>4335</th>\n",
              "      <td>ID00426637202313170790466</td>\n",
              "      <td>48</td>\n",
              "      <td>2888</td>\n",
              "      <td>0.000545</td>\n",
              "      <td>160.860</td>\n",
              "      <td>0.001000</td>\n",
              "      <td>7.874</td>\n",
              "    </tr>\n",
              "    <tr>\n",
              "      <th>4336</th>\n",
              "      <td>ID00426637202313170790466</td>\n",
              "      <td>6</td>\n",
              "      <td>0</td>\n",
              "      <td>NaN</td>\n",
              "      <td>NaN</td>\n",
              "      <td>NaN</td>\n",
              "      <td>NaN</td>\n",
              "    </tr>\n",
              "    <tr>\n",
              "      <th>4337</th>\n",
              "      <td>ID00426637202313170790466</td>\n",
              "      <td>71</td>\n",
              "      <td>8659</td>\n",
              "      <td>0.000384</td>\n",
              "      <td>248.262</td>\n",
              "      <td>0.000867</td>\n",
              "      <td>8.362</td>\n",
              "    </tr>\n",
              "  </tbody>\n",
              "</table>\n",
              "<p>4338 rows × 7 columns</p>\n",
              "</div>\n",
              "      <button class=\"colab-df-convert\" onclick=\"convertToInteractive('df-889c3c5f-dfb8-4768-8525-647dad583458')\"\n",
              "              title=\"Convert this dataframe to an interactive table.\"\n",
              "              style=\"display:none;\">\n",
              "        \n",
              "  <svg xmlns=\"http://www.w3.org/2000/svg\" height=\"24px\"viewBox=\"0 0 24 24\"\n",
              "       width=\"24px\">\n",
              "    <path d=\"M0 0h24v24H0V0z\" fill=\"none\"/>\n",
              "    <path d=\"M18.56 5.44l.94 2.06.94-2.06 2.06-.94-2.06-.94-.94-2.06-.94 2.06-2.06.94zm-11 1L8.5 8.5l.94-2.06 2.06-.94-2.06-.94L8.5 2.5l-.94 2.06-2.06.94zm10 10l.94 2.06.94-2.06 2.06-.94-2.06-.94-.94-2.06-.94 2.06-2.06.94z\"/><path d=\"M17.41 7.96l-1.37-1.37c-.4-.4-.92-.59-1.43-.59-.52 0-1.04.2-1.43.59L10.3 9.45l-7.72 7.72c-.78.78-.78 2.05 0 2.83L4 21.41c.39.39.9.59 1.41.59.51 0 1.02-.2 1.41-.59l7.78-7.78 2.81-2.81c.8-.78.8-2.07 0-2.86zM5.41 20L4 18.59l7.72-7.72 1.47 1.35L5.41 20z\"/>\n",
              "  </svg>\n",
              "      </button>\n",
              "      \n",
              "  <style>\n",
              "    .colab-df-container {\n",
              "      display:flex;\n",
              "      flex-wrap:wrap;\n",
              "      gap: 12px;\n",
              "    }\n",
              "\n",
              "    .colab-df-convert {\n",
              "      background-color: #E8F0FE;\n",
              "      border: none;\n",
              "      border-radius: 50%;\n",
              "      cursor: pointer;\n",
              "      display: none;\n",
              "      fill: #1967D2;\n",
              "      height: 32px;\n",
              "      padding: 0 0 0 0;\n",
              "      width: 32px;\n",
              "    }\n",
              "\n",
              "    .colab-df-convert:hover {\n",
              "      background-color: #E2EBFA;\n",
              "      box-shadow: 0px 1px 2px rgba(60, 64, 67, 0.3), 0px 1px 3px 1px rgba(60, 64, 67, 0.15);\n",
              "      fill: #174EA6;\n",
              "    }\n",
              "\n",
              "    [theme=dark] .colab-df-convert {\n",
              "      background-color: #3B4455;\n",
              "      fill: #D2E3FC;\n",
              "    }\n",
              "\n",
              "    [theme=dark] .colab-df-convert:hover {\n",
              "      background-color: #434B5C;\n",
              "      box-shadow: 0px 1px 3px 1px rgba(0, 0, 0, 0.15);\n",
              "      filter: drop-shadow(0px 1px 2px rgba(0, 0, 0, 0.3));\n",
              "      fill: #FFFFFF;\n",
              "    }\n",
              "  </style>\n",
              "\n",
              "      <script>\n",
              "        const buttonEl =\n",
              "          document.querySelector('#df-889c3c5f-dfb8-4768-8525-647dad583458 button.colab-df-convert');\n",
              "        buttonEl.style.display =\n",
              "          google.colab.kernel.accessAllowed ? 'block' : 'none';\n",
              "\n",
              "        async function convertToInteractive(key) {\n",
              "          const element = document.querySelector('#df-889c3c5f-dfb8-4768-8525-647dad583458');\n",
              "          const dataTable =\n",
              "            await google.colab.kernel.invokeFunction('convertToInteractive',\n",
              "                                                     [key], {});\n",
              "          if (!dataTable) return;\n",
              "\n",
              "          const docLinkHtml = 'Like what you see? Visit the ' +\n",
              "            '<a target=\"_blank\" href=https://colab.research.google.com/notebooks/data_table.ipynb>data table notebook</a>'\n",
              "            + ' to learn more about interactive tables.';\n",
              "          element.innerHTML = '';\n",
              "          dataTable['output_type'] = 'display_data';\n",
              "          await google.colab.output.renderOutput(dataTable, element);\n",
              "          const docLink = document.createElement('div');\n",
              "          docLink.innerHTML = docLinkHtml;\n",
              "          element.appendChild(docLink);\n",
              "        }\n",
              "      </script>\n",
              "    </div>\n",
              "  </div>\n",
              "  "
            ]
          },
          "metadata": {}
        }
      ]
    },
    {
      "cell_type": "code",
      "source": [
        "# Make Slice Id to go from 0 to 29 \n",
        "def slice_proper(df):\n",
        "  df_clean=pd.DataFrame(columns = [\"Patient ID\",\"Slice ID\",\"Lung Volume\",\"Angular_Second_Momentum\",\"Contrast\",\"Correlation\",\"Entropy\",\"New_Slice\"])\n",
        "  Pat_unique=df['Patient ID'].unique()\n",
        "  for pat in Pat_unique:\n",
        "    r_df = df[df['Patient ID'] == pat] \n",
        "    sorted_r=r_df.sort_values(by=['Slice ID'])\n",
        "    new_slice=[i for i in range(len(sorted_r))]\n",
        "    sorted_r[\"New_Slice\"]=new_slice\n",
        "    df_clean=df_clean.append(sorted_r)\n",
        "  return df_clean"
      ],
      "metadata": {
        "id": "NOJ3fwdC8td5"
      },
      "execution_count": 87,
      "outputs": []
    },
    {
      "cell_type": "code",
      "source": [
        "#Cleaning\n",
        "c_df_train=slice_proper(df_train)\n",
        "c_df_test=slice_proper(df_test)\n",
        "c_df_val=slice_proper(df_val)\n",
        "print(c_df_val)"
      ],
      "metadata": {
        "colab": {
          "base_uri": "https://localhost:8080/"
        },
        "id": "OFQFgj1F-bZg",
        "outputId": "d1f6bcaf-7be9-416e-db00-6772a3ed9796"
      },
      "execution_count": 88,
      "outputs": [
        {
          "output_type": "stream",
          "name": "stdout",
          "text": [
            "                    Patient ID Slice ID Lung Volume  Angular_Second_Momentum  \\\n",
            "0    ID00019637202178323708467        1           0                      NaN   \n",
            "11   ID00019637202178323708467        2           0                      NaN   \n",
            "22   ID00019637202178323708467        3           0                      NaN   \n",
            "23   ID00019637202178323708467        4        6636                 0.000701   \n",
            "24   ID00019637202178323708467        5       18246                 0.000784   \n",
            "..                         ...      ...         ...                      ...   \n",
            "264  ID00119637202215426335765       55        3464                 0.000674   \n",
            "265  ID00119637202215426335765       57        1298                 0.000803   \n",
            "266  ID00119637202215426335765       59         210                 0.001000   \n",
            "267  ID00119637202215426335765       60           0                      NaN   \n",
            "268  ID00119637202215426335765       62           0                      NaN   \n",
            "\n",
            "     Contrast  Correlation  Entropy New_Slice  \n",
            "0         NaN          NaN      NaN         0  \n",
            "11        NaN          NaN      NaN         1  \n",
            "22        NaN          NaN      NaN         2  \n",
            "23    164.220     0.001000    7.551         3  \n",
            "24    132.880     0.001000    7.751         4  \n",
            "..        ...          ...      ...       ...  \n",
            "264   179.774     0.001000    7.762        25  \n",
            "265   188.201     0.001000    7.462        26  \n",
            "266   224.857     0.000995    7.088        27  \n",
            "267       NaN          NaN      NaN        28  \n",
            "268       NaN          NaN      NaN        29  \n",
            "\n",
            "[269 rows x 8 columns]\n"
          ]
        }
      ]
    },
    {
      "cell_type": "code",
      "source": [
        "def Create_clean_data_frame(df):\n",
        "  df_GLCM_ALL=pd.DataFrame(columns = [\"Patient\",\"Lung Volume\",\"T_ASM\",\"T_Contrast\",\"T_Correlation\",\"T_Entropy\",\"M_ASM\",\"M_Contrast\",\"M_Correlation\",\"M_Entropy\",\"B_ASM\",\"B_Contrast\",\"B_Correlation\",\"B_Entropy\"])\n",
        "  Pat_unique=df['Patient ID'].unique()\n",
        "  for kkk,pat in enumerate(Pat_unique):\n",
        "    r_df = df[df['Patient ID'] == pat] \n",
        "    column = r_df[\"Lung Volume\"]\n",
        "    max_value_Lung_Volume = column.max()\n",
        "    #print(max_value_Lung_Volume)\n",
        "    rdf_len=len(r_df)\n",
        "    \n",
        "    # First partition - Top \n",
        "    top=r_df[r_df['New_Slice'] <= rdf_len/3]\n",
        "    top.dropna(inplace=True)\n",
        "    top_ASM=top['Angular_Second_Momentum'].mean()\n",
        "    top_Contrast=top['Contrast'].mean()\n",
        "    top_Correlation=top['Correlation'].mean()\n",
        "    top_Entropy=top['Entropy'].mean()\n",
        "   \n",
        "\n",
        "    #Middle\n",
        "    Mid=r_df[(r_df['New_Slice'] <= 2*rdf_len/3) & (r_df['New_Slice'] > rdf_len/3)]\n",
        "    Mid.dropna(inplace=True)\n",
        "    Mid_ASM=Mid['Angular_Second_Momentum'].mean()\n",
        "    Mid_Contrast=Mid['Contrast'].mean()\n",
        "    Mid_Correlation=Mid['Correlation'].mean()\n",
        "    Mid_Entropy=Mid['Entropy'].mean()\n",
        "\n",
        "    #Bottom\n",
        "    Bot=r_df[r_df['New_Slice'] > 2*rdf_len/3]\n",
        "    Bot.dropna(inplace=True)\n",
        "    Bot_ASM=Bot['Angular_Second_Momentum'].mean()\n",
        "    Bot_Contrast=Bot['Contrast'].mean()\n",
        "    Bot_Correlation=Bot['Correlation'].mean()\n",
        "    Bot_Entropy=Bot['Entropy'].mean()\n",
        "    df_GLCM_ALL.loc[len(df_GLCM_ALL.index)]=[pat,max_value_Lung_Volume,top_ASM,top_Contrast,top_Correlation,top_Entropy,Mid_ASM,Mid_Contrast,Mid_Correlation,Mid_Entropy,Bot_ASM,Bot_Contrast,Bot_Correlation,Bot_Entropy]\n",
        "  return df_GLCM_ALL\n",
        "    "
      ],
      "metadata": {
        "id": "X5mrtkI-1J9x"
      },
      "execution_count": 102,
      "outputs": []
    },
    {
      "cell_type": "code",
      "source": [
        "df_train_GLCM=Create_clean_data_frame(c_df_train)\n",
        "df_test_GLCM=Create_clean_data_frame(c_df_test)\n",
        "df_val_GLCM=Create_clean_data_frame(c_df_val)"
      ],
      "metadata": {
        "colab": {
          "base_uri": "https://localhost:8080/"
        },
        "id": "RA7UMW6Y1xUR",
        "outputId": "00d54f5a-92e7-4b8d-cd50-f92990ecf8d9"
      },
      "execution_count": 103,
      "outputs": [
        {
          "output_type": "stream",
          "name": "stderr",
          "text": [
            "/usr/local/lib/python3.7/dist-packages/pandas/util/_decorators.py:311: SettingWithCopyWarning: \n",
            "A value is trying to be set on a copy of a slice from a DataFrame\n",
            "\n",
            "See the caveats in the documentation: https://pandas.pydata.org/pandas-docs/stable/user_guide/indexing.html#returning-a-view-versus-a-copy\n",
            "  return func(*args, **kwargs)\n"
          ]
        }
      ]
    },
    {
      "cell_type": "code",
      "source": [
        "print(len(df_test_GLCM))"
      ],
      "metadata": {
        "colab": {
          "base_uri": "https://localhost:8080/"
        },
        "id": "8gbkvAZV1zwk",
        "outputId": "90c218b1-d969-4706-8444-849704a2ae81"
      },
      "execution_count": 104,
      "outputs": [
        {
          "output_type": "stream",
          "name": "stdout",
          "text": [
            "17\n"
          ]
        }
      ]
    },
    {
      "cell_type": "code",
      "source": [
        "print(df_test_GLCM)"
      ],
      "metadata": {
        "colab": {
          "base_uri": "https://localhost:8080/"
        },
        "id": "7ACGfLd25860",
        "outputId": "7b6b0b54-1775-4ce3-eaea-925286d1f94c"
      },
      "execution_count": 105,
      "outputs": [
        {
          "output_type": "stream",
          "name": "stdout",
          "text": [
            "                      Patient Lung Volume     T_ASM  T_Contrast  \\\n",
            "0   ID00010637202177584971671       51270  0.000310  322.540667   \n",
            "1   ID00025637202179541264076      136598  0.003750   37.176250   \n",
            "2   ID00038637202182690843176      145693  0.002579   47.430000   \n",
            "3   ID00061637202188184085559       56571  0.001735   94.796125   \n",
            "4   ID00077637202199102000916       72085  0.000563  147.049625   \n",
            "5   ID00082637202201836229724      121449  0.003889   28.581333   \n",
            "6   ID00089637202204675567570      160140  0.001214  172.583625   \n",
            "7   ID00104637202208063407045       47612  0.003200   39.447900   \n",
            "8   ID00123637202217151272140       63039  0.000614  965.592000   \n",
            "9   ID00125637202218590429387       44551  0.001667   90.731833   \n",
            "10  ID00128637202219474716089         330  0.163750  235.574000   \n",
            "11  ID00131637202220424084844       51510  0.000603  154.238778   \n",
            "12  ID00135637202224630271439       70847  0.000597  203.625000   \n",
            "13  ID00139637202231703564336       70263  0.006000   42.789778   \n",
            "14  ID00149637202232704462834       74441  0.003000   60.373125   \n",
            "15  ID00165637202237320314458       41172  0.003000   51.359750   \n",
            "16  ID00167637202237397919352       66250  0.003200   74.199900   \n",
            "\n",
            "    T_Correlation  T_Entropy     M_ASM  M_Contrast  M_Correlation  M_Entropy  \\\n",
            "0        0.000675   8.487833  0.000304  286.367800       0.000676   8.553200   \n",
            "1        0.002125   6.521875  0.003000   36.973625       0.002500   6.710500   \n",
            "2        0.000694   7.064400  0.002096   43.696400       0.000707   7.117100   \n",
            "3        0.001123   7.161625  0.001065  104.407400       0.000982   7.459200   \n",
            "4        0.000947   7.948375  0.000481  180.040100       0.000680   8.195300   \n",
            "5        0.002000   6.493000  0.004200   23.848100       0.002100   6.299600   \n",
            "6        0.000764   8.199625  0.003500  118.185000       0.000759   7.768800   \n",
            "7        0.001493   6.691800  0.004100   37.015600       0.000881   6.572400   \n",
            "8        0.000463   8.493333  0.000697  452.996200       0.000602   8.959600   \n",
            "9        0.002167   7.047667  0.001143   96.603714       0.002429   7.233286   \n",
            "10       0.001500   4.320250       NaN         NaN            NaN        NaN   \n",
            "11       0.001094   7.905889  0.000524  156.942700       0.000987   8.076500   \n",
            "12       0.000950   7.995000  0.000983  129.052000       0.000932   7.564000   \n",
            "13       0.000522   6.509000  0.004700   51.242300       0.000417   6.680100   \n",
            "14       0.002375   6.663875  0.002500   53.499900       0.002100   6.731600   \n",
            "15       0.002000   6.634500  0.002000   58.262250       0.002000   6.999500   \n",
            "16       0.002000   7.011700  0.001258  101.002000       0.001900   7.394600   \n",
            "\n",
            "       B_ASM  B_Contrast  B_Correlation  B_Entropy  \n",
            "0   0.000341  395.675000       0.000850   8.419429  \n",
            "1   0.002167   42.433500       0.003333   6.776833  \n",
            "2   0.000903   63.791833       0.000712   7.605833  \n",
            "3   0.000680  142.879000       0.001143   7.730429  \n",
            "4   0.000508  205.392250       0.001049   8.087125  \n",
            "5   0.003667   27.301889       0.003444   6.347889  \n",
            "6   0.006000  162.995000       0.000772   7.790000  \n",
            "7   0.004375   39.518625       0.000946   6.473500  \n",
            "8   0.002105  397.495667       0.000587   8.305333  \n",
            "9   0.001488  146.699250       0.002250   6.920000  \n",
            "10       NaN         NaN            NaN        NaN  \n",
            "11  0.000515  188.291000       0.001143   7.999286  \n",
            "12  0.000906  101.861875       0.001500   7.456750  \n",
            "13  0.005556   42.880111       0.000671   6.483333  \n",
            "14  0.002200   60.179800       0.002800   6.807000  \n",
            "15  0.002000   55.229333       0.002333   6.726667  \n",
            "16  0.000995  160.359222       0.001444   7.594444  \n"
          ]
        }
      ]
    },
    {
      "cell_type": "code",
      "source": [
        "df_test_GLCM.to_csv(\"/content/drive/MyDrive/GLCM_test.csv\")\n",
        "df_train_GLCM.to_csv(\"/content/drive/MyDrive/GLCM_train.csv\")\n",
        "df_val_GLCM.to_csv(\"/content/drive/MyDrive/GLCM_val.csv\")"
      ],
      "metadata": {
        "id": "39ecAU6W6KR8"
      },
      "execution_count": 106,
      "outputs": []
    },
    {
      "cell_type": "code",
      "source": [
        ""
      ],
      "metadata": {
        "id": "ohzMW7ckBrCe"
      },
      "execution_count": null,
      "outputs": []
    }
  ]
}