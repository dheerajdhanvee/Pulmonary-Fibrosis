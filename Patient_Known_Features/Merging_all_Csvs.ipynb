{
  "nbformat": 4,
  "nbformat_minor": 0,
  "metadata": {
    "colab": {
      "name": "Merging_all_Csvs.ipynb",
      "provenance": [],
      "collapsed_sections": []
    },
    "kernelspec": {
      "name": "python3",
      "display_name": "Python 3"
    },
    "language_info": {
      "name": "python"
    }
  },
  "cells": [
    {
      "cell_type": "code",
      "execution_count": 1,
      "metadata": {
        "id": "-t7SxPCyDMtA"
      },
      "outputs": [],
      "source": [
        "import pandas as pd"
      ]
    },
    {
      "cell_type": "code",
      "source": [
        "from google.colab import drive\n",
        "drive.mount('/content/drive')"
      ],
      "metadata": {
        "colab": {
          "base_uri": "https://localhost:8080/"
        },
        "id": "ny0WyWsZD3ZG",
        "outputId": "7315b701-3829-4d53-e284-7740423ad394"
      },
      "execution_count": 2,
      "outputs": [
        {
          "output_type": "stream",
          "name": "stdout",
          "text": [
            "Drive already mounted at /content/drive; to attempt to forcibly remount, call drive.mount(\"/content/drive\", force_remount=True).\n"
          ]
        }
      ]
    },
    {
      "cell_type": "code",
      "source": [
        "#Read all csv Files\n",
        "G_df_train =pd.read_csv('/content/drive/MyDrive/All_csv/GLCM_train.csv')\n",
        "G_df_test = pd.read_csv('/content/drive/MyDrive/All_csv/GLCM_test.csv')\n",
        "G_df_val = pd.read_csv('/content/drive/MyDrive/All_csv/GLCM_val.csv')"
      ],
      "metadata": {
        "id": "gSKeralIDa6E"
      },
      "execution_count": 3,
      "outputs": []
    },
    {
      "cell_type": "code",
      "source": [
        "#Read all csv Files\n",
        "L_df_train =pd.read_csv('/content/drive/MyDrive/All_csv/Latent_space_train.csv')\n",
        "L_df_test = pd.read_csv('/content/drive/MyDrive/All_csv/Latent_space_test.csv')\n",
        "L_df_val = pd.read_csv('/content/drive/MyDrive/All_csv/Latent_space_val.csv')"
      ],
      "metadata": {
        "id": "Oqg5Fp6bD7Qr"
      },
      "execution_count": 4,
      "outputs": []
    },
    {
      "cell_type": "code",
      "source": [
        "# Read Patient Features csvs\n",
        "P_df=pd.read_csv('/content/drive/MyDrive/All_csv/Patient_Features.csv')"
      ],
      "metadata": {
        "id": "kmZWN_UJEGeH"
      },
      "execution_count": 7,
      "outputs": []
    },
    {
      "cell_type": "code",
      "source": [
        "# Merging all train\n",
        "sub_Main_Train= pd.merge(P_df, G_df_train, on=\"Patient\")\n",
        "Main_Train = pd.merge(sub_Main_Train, L_df_train, on=\"Patient\")\n",
        "print(Main_Train)\n",
        "Main_Train.to_csv(\"/content/drive/MyDrive/Main_train.csv\")"
      ],
      "metadata": {
        "colab": {
          "base_uri": "https://localhost:8080/"
        },
        "id": "nanaxXWSES52",
        "outputId": "034218f6-9bd1-407d-9c8b-0727a78cb184"
      },
      "execution_count": 9,
      "outputs": [
        {
          "output_type": "stream",
          "name": "stdout",
          "text": [
            "                        Patient  Weeks   FVC    Percent  Age  \\\n",
            "0     ID00007637202177411956430     -4  2315  58.253649   79   \n",
            "1     ID00007637202177411956430      5  2214  55.712129   79   \n",
            "2     ID00007637202177411956430      7  2061  51.862104   79   \n",
            "3     ID00007637202177411956430      9  2144  53.950679   79   \n",
            "4     ID00007637202177411956430     11  2069  52.063412   79   \n",
            "...                         ...    ...   ...        ...  ...   \n",
            "1312  ID00426637202313170790466     19  2978  73.126412   73   \n",
            "1313  ID00426637202313170790466     31  2908  71.407524   73   \n",
            "1314  ID00426637202313170790466     43  2975  73.052745   73   \n",
            "1315  ID00426637202313170790466     59  2774  68.117081   73   \n",
            "1316  ID00426637202313170790466      0  2925  71.824968   73   \n",
            "\n",
            "      SmokingStatus_Ex-smoker  SmokingStatus_Never smoked  Sex_Male  \\\n",
            "0                           1                           0         1   \n",
            "1                           1                           0         1   \n",
            "2                           1                           0         1   \n",
            "3                           1                           0         1   \n",
            "4                           1                           0         1   \n",
            "...                       ...                         ...       ...   \n",
            "1312                        0                           1         1   \n",
            "1313                        0                           1         1   \n",
            "1314                        0                           1         1   \n",
            "1315                        0                           1         1   \n",
            "1316                        0                           1         1   \n",
            "\n",
            "      Lung Volume     T_ASM  ...  F90  F91  F92  F93        F94       F95  \\\n",
            "0           52303  0.002444  ...  0.0  0.0  0.0  0.0  82.167244  0.000000   \n",
            "1           52303  0.002444  ...  0.0  0.0  0.0  0.0  82.167244  0.000000   \n",
            "2           52303  0.002444  ...  0.0  0.0  0.0  0.0  82.167244  0.000000   \n",
            "3           52303  0.002444  ...  0.0  0.0  0.0  0.0  82.167244  0.000000   \n",
            "4           52303  0.002444  ...  0.0  0.0  0.0  0.0  82.167244  0.000000   \n",
            "...           ...       ...  ...  ...  ...  ...  ...        ...       ...   \n",
            "1312        54966  0.000452  ...  0.0  0.0  0.0  0.0  32.515034  7.033543   \n",
            "1313        54966  0.000452  ...  0.0  0.0  0.0  0.0  32.515034  7.033543   \n",
            "1314        54966  0.000452  ...  0.0  0.0  0.0  0.0  32.515034  7.033543   \n",
            "1315        54966  0.000452  ...  0.0  0.0  0.0  0.0  32.515034  7.033543   \n",
            "1316        54966  0.000452  ...  0.0  0.0  0.0  0.0  32.515034  7.033543   \n",
            "\n",
            "      F96        F97  F98  F99  \n",
            "0     0.0   0.000000  0.0  0.0  \n",
            "1     0.0   0.000000  0.0  0.0  \n",
            "2     0.0   0.000000  0.0  0.0  \n",
            "3     0.0   0.000000  0.0  0.0  \n",
            "4     0.0   0.000000  0.0  0.0  \n",
            "...   ...        ...  ...  ...  \n",
            "1312  0.0  15.793352  0.0  0.0  \n",
            "1313  0.0  15.793352  0.0  0.0  \n",
            "1314  0.0  15.793352  0.0  0.0  \n",
            "1315  0.0  15.793352  0.0  0.0  \n",
            "1316  0.0  15.793352  0.0  0.0  \n",
            "\n",
            "[1317 rows x 122 columns]\n"
          ]
        }
      ]
    },
    {
      "cell_type": "code",
      "source": [
        "# Merging all test\n",
        "sub_Main_Test= pd.merge(P_df, G_df_test, on=\"Patient\")\n",
        "Main_Test = pd.merge(sub_Main_Test, L_df_test, on=\"Patient\")\n",
        "print(Main_Test)\n",
        "Main_Test.to_csv(\"/content/drive/MyDrive/Main_test.csv\")"
      ],
      "metadata": {
        "colab": {
          "base_uri": "https://localhost:8080/"
        },
        "id": "aVnHRJavE5ea",
        "outputId": "6ec8b4f4-8bd4-4396-a881-8578264fbf9b"
      },
      "execution_count": 10,
      "outputs": [
        {
          "output_type": "stream",
          "name": "stdout",
          "text": [
            "                       Patient  Weeks   FVC    Percent  Age  \\\n",
            "0    ID00010637202177584971671      0  3523  94.724672   60   \n",
            "1    ID00010637202177584971671      1  3373  90.691547   60   \n",
            "2    ID00010637202177584971671      3  3327  89.454721   60   \n",
            "3    ID00010637202177584971671      5  2993  80.474296   60   \n",
            "4    ID00010637202177584971671      7  3030  81.469133   60   \n",
            "..                         ...    ...   ...        ...  ...   \n",
            "145  ID00167637202237397919352     23  4496  91.322717   58   \n",
            "146  ID00167637202237397919352     34  4537  92.155509   58   \n",
            "147  ID00167637202237397919352     47  4424  89.860253   58   \n",
            "148  ID00167637202237397919352     62  4288  87.097823   58   \n",
            "149  ID00167637202237397919352     66  3744  76.048099   58   \n",
            "\n",
            "     SmokingStatus_Ex-smoker  SmokingStatus_Never smoked  Sex_Male  \\\n",
            "0                          1                           0         1   \n",
            "1                          1                           0         1   \n",
            "2                          1                           0         1   \n",
            "3                          1                           0         1   \n",
            "4                          1                           0         1   \n",
            "..                       ...                         ...       ...   \n",
            "145                        1                           0         1   \n",
            "146                        1                           0         1   \n",
            "147                        1                           0         1   \n",
            "148                        1                           0         1   \n",
            "149                        1                           0         1   \n",
            "\n",
            "     Lung Volume    T_ASM  ...  F90  F91  F92  F93        F94        F95  F96  \\\n",
            "0          51270  0.00031  ...  0.0  0.0  0.0  0.0  19.932251  16.920300  0.0   \n",
            "1          51270  0.00031  ...  0.0  0.0  0.0  0.0  19.932251  16.920300  0.0   \n",
            "2          51270  0.00031  ...  0.0  0.0  0.0  0.0  19.932251  16.920300  0.0   \n",
            "3          51270  0.00031  ...  0.0  0.0  0.0  0.0  19.932251  16.920300  0.0   \n",
            "4          51270  0.00031  ...  0.0  0.0  0.0  0.0  19.932251  16.920300  0.0   \n",
            "..           ...      ...  ...  ...  ...  ...  ...        ...        ...  ...   \n",
            "145        66250  0.00320  ...  0.0  0.0  0.0  0.0  35.680670   5.565806  0.0   \n",
            "146        66250  0.00320  ...  0.0  0.0  0.0  0.0  35.680670   5.565806  0.0   \n",
            "147        66250  0.00320  ...  0.0  0.0  0.0  0.0  35.680670   5.565806  0.0   \n",
            "148        66250  0.00320  ...  0.0  0.0  0.0  0.0  35.680670   5.565806  0.0   \n",
            "149        66250  0.00320  ...  0.0  0.0  0.0  0.0  35.680670   5.565806  0.0   \n",
            "\n",
            "          F97  F98  F99  \n",
            "0    9.536091  0.0  0.0  \n",
            "1    9.536091  0.0  0.0  \n",
            "2    9.536091  0.0  0.0  \n",
            "3    9.536091  0.0  0.0  \n",
            "4    9.536091  0.0  0.0  \n",
            "..        ...  ...  ...  \n",
            "145  9.143009  0.0  0.0  \n",
            "146  9.143009  0.0  0.0  \n",
            "147  9.143009  0.0  0.0  \n",
            "148  9.143009  0.0  0.0  \n",
            "149  9.143009  0.0  0.0  \n",
            "\n",
            "[150 rows x 122 columns]\n"
          ]
        }
      ]
    },
    {
      "cell_type": "code",
      "source": [
        "# Merging all val\n",
        "sub_Main_val= pd.merge(P_df, G_df_val, on=\"Patient\")\n",
        "Main_val = pd.merge(sub_Main_val, L_df_val, on=\"Patient\")\n",
        "print(Main_val)\n",
        "Main_val.to_csv(\"/content/drive/MyDrive/Main_val.csv\")"
      ],
      "metadata": {
        "colab": {
          "base_uri": "https://localhost:8080/"
        },
        "id": "grM9dLSQGtGV",
        "outputId": "4845fd51-be99-45fb-9305-5a6f9cd11800"
      },
      "execution_count": 11,
      "outputs": [
        {
          "output_type": "stream",
          "name": "stdout",
          "text": [
            "                      Patient  Weeks   FVC    Percent  Age  \\\n",
            "0   ID00019637202178323708467     13  2100  92.858722   83   \n",
            "1   ID00019637202178323708467     14  2047  90.515145   83   \n",
            "2   ID00019637202178323708467     16  2001  88.481097   83   \n",
            "3   ID00019637202178323708467     18  2054  90.824674   83   \n",
            "4   ID00019637202178323708467     20  2002  88.525315   83   \n",
            "..                        ...    ...   ...        ...  ...   \n",
            "73  ID00119637202215426335765     16  2950  67.456325   57   \n",
            "74  ID00119637202215426335765     28  2886  65.992866   57   \n",
            "75  ID00119637202215426335765     40  2899  66.290131   57   \n",
            "76  ID00119637202215426335765     56  2994  68.462453   57   \n",
            "77  ID00119637202215426335765     59  2908  66.495930   57   \n",
            "\n",
            "    SmokingStatus_Ex-smoker  SmokingStatus_Never smoked  Sex_Male  \\\n",
            "0                         1                           0         0   \n",
            "1                         1                           0         0   \n",
            "2                         1                           0         0   \n",
            "3                         1                           0         0   \n",
            "4                         1                           0         0   \n",
            "..                      ...                         ...       ...   \n",
            "73                        1                           0         1   \n",
            "74                        1                           0         1   \n",
            "75                        1                           0         1   \n",
            "76                        1                           0         1   \n",
            "77                        1                           0         1   \n",
            "\n",
            "    Lung Volume     T_ASM  ...  F90  F91  F92  F93       F94        F95  F96  \\\n",
            "0         53598  0.000878  ...  0.0  0.0  0.0  0.0  52.64764  10.859571  0.0   \n",
            "1         53598  0.000878  ...  0.0  0.0  0.0  0.0  52.64764  10.859571  0.0   \n",
            "2         53598  0.000878  ...  0.0  0.0  0.0  0.0  52.64764  10.859571  0.0   \n",
            "3         53598  0.000878  ...  0.0  0.0  0.0  0.0  52.64764  10.859571  0.0   \n",
            "4         53598  0.000878  ...  0.0  0.0  0.0  0.0  52.64764  10.859571  0.0   \n",
            "..          ...       ...  ...  ...  ...  ...  ...       ...        ...  ...   \n",
            "73        39604  0.000976  ...  0.0  0.0  0.0  0.0  58.56046  35.583553  0.0   \n",
            "74        39604  0.000976  ...  0.0  0.0  0.0  0.0  58.56046  35.583553  0.0   \n",
            "75        39604  0.000976  ...  0.0  0.0  0.0  0.0  58.56046  35.583553  0.0   \n",
            "76        39604  0.000976  ...  0.0  0.0  0.0  0.0  58.56046  35.583553  0.0   \n",
            "77        39604  0.000976  ...  0.0  0.0  0.0  0.0  58.56046  35.583553  0.0   \n",
            "\n",
            "          F97  F98  F99  \n",
            "0   28.319828  0.0  0.0  \n",
            "1   28.319828  0.0  0.0  \n",
            "2   28.319828  0.0  0.0  \n",
            "3   28.319828  0.0  0.0  \n",
            "4   28.319828  0.0  0.0  \n",
            "..        ...  ...  ...  \n",
            "73  48.900856  0.0  0.0  \n",
            "74  48.900856  0.0  0.0  \n",
            "75  48.900856  0.0  0.0  \n",
            "76  48.900856  0.0  0.0  \n",
            "77  48.900856  0.0  0.0  \n",
            "\n",
            "[78 rows x 122 columns]\n"
          ]
        }
      ]
    },
    {
      "cell_type": "code",
      "source": [
        ""
      ],
      "metadata": {
        "id": "h_azVLTYG_pY"
      },
      "execution_count": null,
      "outputs": []
    }
  ]
}